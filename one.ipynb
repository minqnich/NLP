{
 "cells": [
  {
   "cell_type": "code",
   "execution_count": 1,
   "metadata": {},
   "outputs": [
    {
     "name": "stdout",
     "output_type": "stream",
     "text": [
      "Found 'Python' in the string.\n"
     ]
    }
   ],
   "source": [
    "import re\n",
    "\n",
    "# Sample string\n",
    "sample_string = \"I love Python programming language. Python is awesome!\"\n",
    "\n",
    "# Regular expression to find the word \"Python\"\n",
    "pattern = re.compile(r'\\bPython\\b', re.IGNORECASE)\n",
    "\n",
    "# Search for the pattern in the string\n",
    "match = re.search(pattern, sample_string)\n",
    "\n",
    "# Check if the pattern is found\n",
    "if match:\n",
    "    print(\"Found 'Python' in the string.\")\n",
    "else:\n",
    "    print(\"Did not find 'Python' in the string.\")"
   ]
  }
 ],
 "metadata": {
  "kernelspec": {
   "display_name": "nlp",
   "language": "python",
   "name": "python3"
  },
  "language_info": {
   "codemirror_mode": {
    "name": "ipython",
    "version": 3
   },
   "file_extension": ".py",
   "mimetype": "text/x-python",
   "name": "python",
   "nbconvert_exporter": "python",
   "pygments_lexer": "ipython3",
   "version": "3.11.5"
  }
 },
 "nbformat": 4,
 "nbformat_minor": 2
}
