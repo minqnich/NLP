{
 "cells": [
  {
   "cell_type": "code",
   "execution_count": 1,
   "metadata": {},
   "outputs": [
    {
     "name": "stdout",
     "output_type": "stream",
     "text": [
      "Matched postal codes: ['50300', '12345', '67890']\n"
     ]
    }
   ],
   "source": [
    "import re\n",
    "\n",
    "# Sample string with postal codes\n",
    "sample_string = \"The postal codes are 50300, 12345, and 67890.\"\n",
    "\n",
    "# Regular expression to match postal codes like \"50300\"\n",
    "postal_code_pattern = re.compile(r'\\b\\d{5}\\b')\n",
    "\n",
    "# Find all matches in the string\n",
    "matches = re.findall(postal_code_pattern, sample_string)\n",
    "\n",
    "# Print the matched postal codes\n",
    "print(\"Matched postal codes:\", matches)\n"
   ]
  }
 ],
 "metadata": {
  "kernelspec": {
   "display_name": "nlp",
   "language": "python",
   "name": "python3"
  },
  "language_info": {
   "codemirror_mode": {
    "name": "ipython",
    "version": 3
   },
   "file_extension": ".py",
   "mimetype": "text/x-python",
   "name": "python",
   "nbconvert_exporter": "python",
   "pygments_lexer": "ipython3",
   "version": "3.11.5"
  }
 },
 "nbformat": 4,
 "nbformat_minor": 2
}
