{
 "cells": [
  {
   "cell_type": "code",
   "execution_count": 1,
   "metadata": {},
   "outputs": [
    {
     "name": "stdout",
     "output_type": "stream",
     "text": [
      "Intel MKL WARNING: Support of Intel(R) Streaming SIMD Extensions 4.2 (Intel(R) SSE4.2) enabled only processors has been deprecated. Intel oneAPI Math Kernel Library 2025.0 will require Intel(R) Advanced Vector Extensions (Intel(R) AVX) instructions.\n",
      "Intel MKL WARNING: Support of Intel(R) Streaming SIMD Extensions 4.2 (Intel(R) SSE4.2) enabled only processors has been deprecated. Intel oneAPI Math Kernel Library 2025.0 will require Intel(R) Advanced Vector Extensions (Intel(R) AVX) instructions.\n",
      "Feature Variances:\n",
      "[9.03671768e-05 3.27686563e-04 9.69487312e-06 ... 1.49891048e-05\n",
      " 1.99136446e-04 2.32359852e-05]\n",
      "Number of features removed with variance threshold: 8511\n",
      "Shape of the train set: (3900, 161)\n",
      "Shape of the test set: (1672, 161)\n",
      "Top and Bottom 10 Rows:\n",
      "        v1                                                 v2\n",
      "0      ham  Go until jurong point, crazy.. Available only ...\n",
      "1      ham                      Ok lar... Joking wif u oni...\n",
      "2     spam  Free entry in 2 a wkly comp to win FA Cup fina...\n",
      "3      ham  U dun say so early hor... U c already then say...\n",
      "4      ham  Nah I don't think he goes to usf, he lives aro...\n",
      "5     spam  FreeMsg Hey there darling it's been 3 week's n...\n",
      "6      ham  Even my brother is not like to speak with me. ...\n",
      "7      ham  As per your request 'Melle Melle (Oru Minnamin...\n",
      "8     spam  WINNER!! As a valued network customer you have...\n",
      "9     spam  Had your mobile 11 months or more? U R entitle...\n",
      "5562   ham  Ok lor... Sony ericsson salesman... I ask shuh...\n",
      "5563   ham                                Ard 6 like dat lor.\n",
      "5564   ham  Why don't you wait 'til at least wednesday to ...\n",
      "5565   ham                                       Huh y lei...\n",
      "5566  spam  REMINDER FROM O2: To get 2.50 pounds free call...\n",
      "5567  spam  This is the 2nd time we have tried 2 contact u...\n",
      "5568   ham              Will Ì_ b going to esplanade fr home?\n",
      "5569   ham  Pity, * was in mood for that. So...any other s...\n",
      "5570   ham  The guy did some bitching but I acted like i'd...\n",
      "5571   ham                         Rofl. Its true to its name\n"
     ]
    },
    {
     "name": "stderr",
     "output_type": "stream",
     "text": [
      "/Users/meiigam/anaconda3/envs/nlp/lib/python3.11/site-packages/sklearn/utils/validation.py:605: FutureWarning: is_sparse is deprecated and will be removed in a future version. Check `isinstance(dtype, pd.SparseDtype)` instead.\n",
      "  if is_sparse(pd_dtype):\n",
      "/Users/meiigam/anaconda3/envs/nlp/lib/python3.11/site-packages/sklearn/utils/validation.py:614: FutureWarning: is_sparse is deprecated and will be removed in a future version. Check `isinstance(dtype, pd.SparseDtype)` instead.\n",
      "  if is_sparse(pd_dtype) or not is_extension_array_dtype(pd_dtype):\n"
     ]
    }
   ],
   "source": [
    "import pandas as pd\n",
    "from sklearn.feature_extraction.text import TfidfVectorizer\n",
    "from sklearn.feature_selection import VarianceThreshold\n",
    "from sklearn.model_selection import train_test_split\n",
    "\n",
    "dataset_path = 'spam.csv'\n",
    "df = pd.read_csv(dataset_path, encoding='ISO-8859-1').drop(['Unnamed: 2', 'Unnamed: 3', 'Unnamed: 4'], axis=1)\n",
    "\n",
    "tfidf_vectorizer = TfidfVectorizer()\n",
    "X_tfidf = tfidf_vectorizer.fit_transform(df['v2'])\n",
    "\n",
    "X_tfidf_array = X_tfidf.toarray()\n",
    "\n",
    "feature_variances = X_tfidf_array.var(axis=0)\n",
    "\n",
    "print(\"Feature Variances:\")\n",
    "print(feature_variances)\n",
    "\n",
    "# No feature in X meets the variance threshold 0.10000\n",
    "chosen_threshold = 0.001 \n",
    "\n",
    "variance_selector = VarianceThreshold(threshold=chosen_threshold)\n",
    "X_selected = variance_selector.fit_transform(X_tfidf)\n",
    "\n",
    "removed_features_count = X_tfidf.shape[1] - X_selected.shape[1]\n",
    "print(f\"Number of features removed with variance threshold: {removed_features_count}\")\n",
    "\n",
    "X_train, X_test, y_train, y_test = train_test_split(\n",
    "    X_selected, df['v1'], test_size=0.3, random_state=1234, stratify=df['v1'], shuffle=True\n",
    ")\n",
    "\n",
    "print(f\"Shape of the train set: {X_train.shape}\")\n",
    "print(f\"Shape of the test set: {X_test.shape}\")\n",
    "\n",
    "top_and_bottom_10_rows = pd.concat([df.head(10), df.tail(10)])\n",
    "print(\"Top and Bottom 10 Rows:\")\n",
    "print(top_and_bottom_10_rows)\n",
    "\n",
    "\n",
    "\n"
   ]
  }
 ],
 "metadata": {
  "kernelspec": {
   "display_name": "base",
   "language": "python",
   "name": "python3"
  },
  "language_info": {
   "codemirror_mode": {
    "name": "ipython",
    "version": 3
   },
   "file_extension": ".py",
   "mimetype": "text/x-python",
   "name": "python",
   "nbconvert_exporter": "python",
   "pygments_lexer": "ipython3",
   "version": "3.11.5"
  }
 },
 "nbformat": 4,
 "nbformat_minor": 2
}
